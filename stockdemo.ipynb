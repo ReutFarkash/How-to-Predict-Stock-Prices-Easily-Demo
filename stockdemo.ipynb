{
 "cells": [
  {
   "cell_type": "code",
   "execution_count": 1,
   "metadata": {},
   "outputs": [
    {
     "name": "stderr",
     "output_type": "stream",
     "text": [
      "/home/reut/virtualenv/py-keras/lib/python3.6/site-packages/h5py/__init__.py:36: FutureWarning: Conversion of the second argument of issubdtype from `float` to `np.floating` is deprecated. In future, it will be treated as `np.float64 == np.dtype(float).type`.\n",
      "  from ._conv import register_converters as _register_converters\n",
      "Using TensorFlow backend.\n"
     ]
    }
   ],
   "source": [
    "from keras.layers.core import Dense, Activation, Dropout\n",
    "from keras.layers.recurrent import LSTM\n",
    "from keras.models import Sequential\n",
    "import lstm, time #helper libraries\n",
    "%load_ext autoreload\n",
    "%autoreload 2"
   ]
  },
  {
   "cell_type": "code",
   "execution_count": 2,
   "metadata": {},
   "outputs": [],
   "source": [
    "import pandas as pd\n",
    "import numpy as np\n",
    "import matplotlib.pyplot as plt\n",
    "import os.path"
   ]
  },
  {
   "cell_type": "code",
   "execution_count": 3,
   "metadata": {},
   "outputs": [],
   "source": [
    "working_csv = 'hist2_out.csv'\n",
    "original_csv = 'IWM-history2.csv'"
   ]
  },
  {
   "cell_type": "code",
   "execution_count": 4,
   "metadata": {},
   "outputs": [],
   "source": [
    "# create formated csv file if it does not exist\n",
    "if not os.path.isfile(working_csv):\n",
    "    df = pd.read_csv(original_csv)\n",
    "    close = df['Adj Close']\n",
    "    close.to_csv(working_csv, index=False)"
   ]
  },
  {
   "cell_type": "code",
   "execution_count": 5,
   "metadata": {},
   "outputs": [],
   "source": [
    "def stock_lstm(window_size=50, predict_len=50, lstm_par1=50, lstm_par2=100, epoch=15, model=None, X_train=None, y_train=None, X_test=None, y_test=None):\n",
    "\n",
    "    # create a new model if one wasn't provided\n",
    "    if model==None:\n",
    "        X_train, y_train, X_test, y_test = lstm.load_data(working_csv, window_size, True)\n",
    "        model = Sequential()\n",
    "\n",
    "        model.add(LSTM(\n",
    "            input_dim=1,\n",
    "            output_dim=lstm_par1,\n",
    "            return_sequences=True))\n",
    "        model.add(Dropout(0.2))\n",
    "\n",
    "        model.add(LSTM(\n",
    "            lstm_par2,\n",
    "            return_sequences=False))\n",
    "        model.add(Dropout(0.2))\n",
    "\n",
    "        model.add(Dense(\n",
    "            output_dim=1))\n",
    "        model.add(Activation('linear'))\n",
    "\n",
    "        start = time.time()\n",
    "        model.compile(loss='mse', optimizer='rmsprop')\n",
    "        print('compilation time : ', time.time() - start)\n",
    "    \n",
    "    #Step 3 Train the model\n",
    "    model.fit(\n",
    "        X_train,\n",
    "        y_train,\n",
    "        batch_size=512,\n",
    "        nb_epoch=epoch,\n",
    "        validation_split=0.05)\n",
    "    \n",
    "    #Step 4 - Plot the predictions!\n",
    "    predictions = lstm.predict_sequences_multiple(model, X_test, window_size, predict_len)\n",
    "    lstm.plot_results_multiple(predictions, y_test, predict_len)\n",
    "    \n",
    "    cache = (X_train, y_train, X_test, y_test, model, predictions)\n",
    "    return cache"
   ]
  },
  {
   "cell_type": "code",
   "execution_count": null,
   "metadata": {},
   "outputs": [
    {
     "name": "stdout",
     "output_type": "stream",
     "text": [
      "compilation time :  0.02648758888244629\n",
      "Train on 3808 samples, validate on 201 samples\n",
      "Epoch 1/3\n",
      "3808/3808 [==============================] - 7s 2ms/step - loss: 1.1817 - val_loss: 0.7489\n",
      "Epoch 2/3\n"
     ]
    }
   ],
   "source": [
    "cache1 = stock_lstm(window_size=50, predict_len=50, lstm_par1=100, lstm_par2=100, epoch=3)"
   ]
  },
  {
   "cell_type": "code",
   "execution_count": null,
   "metadata": {},
   "outputs": [],
   "source": []
  }
 ],
 "metadata": {
  "kernelspec": {
   "display_name": "py-keras",
   "language": "python",
   "name": "py-keras"
  },
  "language_info": {
   "codemirror_mode": {
    "name": "ipython",
    "version": 3
   },
   "file_extension": ".py",
   "mimetype": "text/x-python",
   "name": "python",
   "nbconvert_exporter": "python",
   "pygments_lexer": "ipython3",
   "version": "3.6.4"
  }
 },
 "nbformat": 4,
 "nbformat_minor": 2
}
