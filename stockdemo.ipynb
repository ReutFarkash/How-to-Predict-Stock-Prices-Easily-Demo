{
 "cells": [
  {
   "cell_type": "code",
   "execution_count": null,
   "metadata": {},
   "outputs": [],
   "source": [
    "from keras.layers.core import Dense, Activation, Dropout\n",
    "from keras.layers.recurrent import LSTM\n",
    "from keras.models import Sequential\n",
    "import lstm, time #helper libraries\n",
    "%load_ext autoreload\n",
    "%autoreload 2"
   ]
  },
  {
   "cell_type": "code",
   "execution_count": null,
   "metadata": {},
   "outputs": [],
   "source": [
    "import pandas as pd\n",
    "import numpy as np\n",
    "import matplotlib.pyplot as plt\n",
    "import os.path"
   ]
  },
  {
   "cell_type": "code",
   "execution_count": null,
   "metadata": {},
   "outputs": [],
   "source": [
    "working_csv = 'hist2_out.csv'\n",
    "original_csv = 'IWM-history2.csv'"
   ]
  },
  {
   "cell_type": "code",
   "execution_count": null,
   "metadata": {},
   "outputs": [],
   "source": [
    "# create formated csv file if it does not exist\n",
    "if not os.path.isfile(working_csv):\n",
    "    df = pd.read_csv(original_csv)\n",
    "    close = df['Adj Close']\n",
    "    close.to_csv(working_csv, index=False)"
   ]
  },
  {
   "cell_type": "code",
   "execution_count": null,
   "metadata": {},
   "outputs": [],
   "source": [
    "def stock_lstm(window_size=50, predict_len=50, lstm_par1=50, lstm_par2=100, epoch=15, model=None, X_train=None, y_train=None, X_test=None, y_test=None):\n",
    "\n",
    "    # create a new model if one wasn't provided\n",
    "    if model==None:\n",
    "        X_train, y_train, X_test, y_test = lstm.load_data(working_csv, window_size, True)\n",
    "        model = Sequential()\n",
    "\n",
    "        model.add(LSTM(\n",
    "            input_dim=1,\n",
    "            output_dim=lstm_par1,\n",
    "            return_sequences=True))\n",
    "        model.add(Dropout(0.2))\n",
    "\n",
    "        model.add(LSTM(\n",
    "            lstm_par2,\n",
    "            return_sequences=False))\n",
    "        model.add(Dropout(0.2))\n",
    "\n",
    "        model.add(Dense(\n",
    "            output_dim=1))\n",
    "        model.add(Activation('linear'))\n",
    "\n",
    "        start = time.time()\n",
    "        model.compile(loss='mse', optimizer='rmsprop')\n",
    "        print('compilation time : ', time.time() - start)\n",
    "    \n",
    "    #Step 3 Train the model\n",
    "    model.fit(\n",
    "        X_train,\n",
    "        y_train,\n",
    "        batch_size=512,\n",
    "        nb_epoch=epoch,\n",
    "        validation_split=0.05)\n",
    "    \n",
    "    #Step 4 - Plot the predictions!\n",
    "    predictions = lstm.predict_sequences_multiple(model, X_test, window_size, predict_len)\n",
    "    lstm.plot_results_multiple(predictions, y_test, predict_len)\n",
    "    \n",
    "    cache = (X_train, y_train, X_test, y_test, model, predictions)\n",
    "    return cache"
   ]
  },
  {
   "cell_type": "code",
   "execution_count": null,
   "metadata": {},
   "outputs": [],
   "source": [
    "cache1 = stock_lstm(window_size=50, predict_len=50, lstm_par1=100, lstm_par2=100, epoch=20)"
   ]
  },
  {
   "cell_type": "code",
   "execution_count": null,
   "metadata": {},
   "outputs": [],
   "source": [
    "cache2 = stock_lstm(window_size=100, predict_len=50, lstm_par1=100, lstm_par2=100, epoch=20)"
   ]
  },
  {
   "cell_type": "code",
   "execution_count": null,
   "metadata": {},
   "outputs": [],
   "source": [
    "cache3 = stock_lstm(window_size=150, predict_len=50, lstm_par1=150, lstm_par2=150, epoch=20)"
   ]
  },
  {
   "cell_type": "code",
   "execution_count": null,
   "metadata": {},
   "outputs": [],
   "source": [
    "cache4 = stock_lstm(window_size=50, predict_len=50, lstm_par1=50, lstm_par2=100, epoch=20)"
   ]
  },
  {
   "cell_type": "code",
   "execution_count": null,
   "metadata": {},
   "outputs": [],
   "source": [
    "cache5 = stock_lstm(window_size=100, predict_len=50, lstm_par1=150, lstm_par2=250, epoch=20)"
   ]
  },
  {
   "cell_type": "code",
   "execution_count": null,
   "metadata": {},
   "outputs": [],
   "source": [
    "X_train1, y_train1, X_test1, y_test1, model1, _ = cache1\n",
    "cache12 = stock_lstm(window_size=50, predict_len=50, lstm_par1=100, lstm_par2=100, epoch=20, model=model1, X_train=X_train1, y_train=y_train1, X_test=X_test1, y_test=y_test1)"
   ]
  },
  {
   "cell_type": "code",
   "execution_count": null,
   "metadata": {},
   "outputs": [],
   "source": [
    "X_train2, y_train2, X_test2, y_test2, model2, _ = cache2\n",
    "cache22 = stock_lstm(window_size=100, predict_len=50, lstm_par1=100, lstm_par2=100, epoch=20, model=model2, X_train=X_train2, y_train=y_train2, X_test=X_test2, y_test=y_test2)"
   ]
  },
  {
   "cell_type": "code",
   "execution_count": null,
   "metadata": {},
   "outputs": [],
   "source": [
    "X_train3, y_train3, X_test3, y_test3, model3, _ = cache3\n",
    "cache32 = stock_lstm(window_size=150, predict_len=50, lstm_par1=150, lstm_par2=150, epoch=20, model=model3, X_train=X_train3, y_train=y_train3, X_test=X_test3, y_test=y_test3)"
   ]
  },
  {
   "cell_type": "code",
   "execution_count": null,
   "metadata": {},
   "outputs": [],
   "source": [
    "X_train4, y_train4, X_test4, y_test4, model4, _ = cache4\n",
    "cache42 = stock_lstm(window_size=50, predict_len=50, lstm_par1=50, lstm_par2=100, epoch=20, model=model4, X_train=X_train4, y_train=y_train4, X_test=X_test4, y_test=y_test4)"
   ]
  },
  {
   "cell_type": "code",
   "execution_count": null,
   "metadata": {},
   "outputs": [],
   "source": [
    "X_train5, y_train5, X_test5, y_test5, model5, _ = cache5\n",
    "cache52 = stock_lstm(window_size=100, predict_len=50, lstm_par1=150, lstm_par2=250, epoch=20, model=model5, X_train=X_train5, y_train=y_train5, X_test=X_test5, y_test=y_test5)"
   ]
  }
 ],
 "metadata": {
  "kernelspec": {
   "display_name": "py-keras",
   "language": "python",
   "name": "py-keras"
  },
  "language_info": {
   "codemirror_mode": {
    "name": "ipython",
    "version": 3
   },
   "file_extension": ".py",
   "mimetype": "text/x-python",
   "name": "python",
   "nbconvert_exporter": "python",
   "pygments_lexer": "ipython3",
   "version": "3.6.4"
  }
 },
 "nbformat": 4,
 "nbformat_minor": 2
}
